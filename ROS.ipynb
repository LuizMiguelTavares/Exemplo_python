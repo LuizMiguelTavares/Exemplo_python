{
 "cells": [
  {
   "cell_type": "markdown",
   "metadata": {},
   "source": [
    "# Conceitos Básicos de ROS"
   ]
  },
  {
   "cell_type": "code",
   "execution_count": null,
   "metadata": {},
   "outputs": [],
   "source": [
    "''' \n",
    "Nodes: São basicamente processos que realizam cálculos. No ROS, cada node idealmente realiza uma tarefa específica.\n",
    "\n",
    "Topics: Os nodes se comunicam entre si usando um sistema de publicação e assinatura. Se um node quer enviar informações, \n",
    "ele \"publica\" em um determinado tópico, e se um node quer receber essas informações, ele \"assina\" aquele tópico.\n",
    "\n",
    "Messages: São estruturas de dados que definem os tipos de informação que podem ser enviados através dos topics. \n",
    "ROS possui várias mensagens padrão, mas você também pode definir suas próprias.\n",
    "\n",
    "Services: Ao contrário dos topics, que são unidirecionais, os services permitem comunicação bidirecional. \n",
    "Um node \"chama\" um serviço, e outro node \"responde\" a essa chamada.\n",
    "'''"
   ]
  },
  {
   "cell_type": "markdown",
   "metadata": {},
   "source": [
    "# Comandos Básicos"
   ]
  },
  {
   "cell_type": "code",
   "execution_count": null,
   "metadata": {},
   "outputs": [],
   "source": [
    "'''\n",
    "roscore: O \"coração\" do ROS. É o primeiro comando que você deve executar porque inicializa o que é chamado de ROS Master, que permite que os nodes se comuniquem.\n",
    "\n",
    "rosrun: Este comando é usado para executar um node específico de um pacote. Por exemplo: rosrun [nome_do_pacote] [nome_do_node].\n",
    "\n",
    "rostopic: Uma ferramenta de linha de comando para obter informações sobre topics. Alguns usos comuns:\n",
    "    rostopic list: Mostra todos os topics ativos.\n",
    "    rostopic echo [nome_do_topic]: Exibe os dados sendo publicados em um topic.\n",
    "    rostopic pub [nome_do_topic] [tipo_de_msg] [dados]: Publica dados em um topic.\n",
    "    rostopic type [nome_do_topic]: Mostra o tipo de mensagem de um topic.\n",
    "\n",
    "rosservice: Semelhante ao rostopic, mas para services.\n",
    "    rosservice list: Lista todos os services ativos.\n",
    "    rosservice call [nome_do_service] [args]: Chama um serviço com os argumentos fornecidos.\n",
    "\n",
    "rosnode: Ferramenta para obter informações sobre nodes.\n",
    "    rosnode list: Lista todos os nodes ativos.\n",
    "    rosnode info [nome_do_node]: Fornece informações detalhadas sobre um node específico.\n",
    "\n",
    "roslaunch: Permite iniciar vários nodes de uma vez usando um arquivo de lançamento (launch file).\n",
    "'''"
   ]
  }
 ],
 "metadata": {
  "language_info": {
   "name": "python"
  },
  "orig_nbformat": 4
 },
 "nbformat": 4,
 "nbformat_minor": 2
}
