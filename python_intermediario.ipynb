{
 "cells": [
  {
   "cell_type": "markdown",
   "metadata": {},
   "source": [
    "# Comprehensions em Python"
   ]
  },
  {
   "cell_type": "code",
   "execution_count": 3,
   "metadata": {},
   "outputs": [],
   "source": [
    "'''\n",
    "Comprehensions fornecem uma forma concisa de criar coleções. \n",
    "Elas podem ser usadas para realizar diversas operações, como filtragem, \n",
    "transformação, ou combinação de elementos.\n",
    "''';"
   ]
  },
  {
   "cell_type": "markdown",
   "metadata": {},
   "source": [
    "### List Comprehensions"
   ]
  },
  {
   "cell_type": "code",
   "execution_count": 1,
   "metadata": {},
   "outputs": [
    {
     "name": "stdout",
     "output_type": "stream",
     "text": [
      "[1, 4, 9, 16, 25]\n"
     ]
    }
   ],
   "source": [
    "# Criando uma lista dos quadrados dos números\n",
    "numeros = [1, 2, 3, 4, 5]\n",
    "quadrados = [n**2 for n in numeros]\n",
    "print(quadrados)  # [1, 4, 9, 16, 25]"
   ]
  },
  {
   "cell_type": "markdown",
   "metadata": {},
   "source": [
    "### Dict Comprehensions"
   ]
  },
  {
   "cell_type": "code",
   "execution_count": 5,
   "metadata": {},
   "outputs": [
    {
     "name": "stdout",
     "output_type": "stream",
     "text": [
      "{0: 1, 1: 4, 2: 9, 3: 16, 4: 25}\n"
     ]
    }
   ],
   "source": [
    "# Criando um dicionário com números e seus quadrados\n",
    "numeros = [1, 2, 3, 4, 5]\n",
    "dicionario_quadrados = {i: n**2 for i, n in enumerate(numeros)}\n",
    "print(dicionario_quadrados)  # {1: 1, 2: 4, 3: 9, 4: 16, 5: 25}"
   ]
  },
  {
   "cell_type": "markdown",
   "metadata": {},
   "source": [
    "# Módulos e Pacotes em Python"
   ]
  },
  {
   "cell_type": "code",
   "execution_count": 10,
   "metadata": {},
   "outputs": [
    {
     "name": "stdout",
     "output_type": "stream",
     "text": [
      "[10 20 30]\n",
      "[1 2 3]\n",
      "[4 5 6]\n"
     ]
    }
   ],
   "source": [
    "'''\n",
    "Módulos são arquivos Python que contêm conjuntos de funções, classes e variáveis relacionadas. \n",
    "Eles são uma maneira de organizar o código de maneira modular e reutilizável. \n",
    "Um arquivo Python é tratado como um módulo quando você o importa usando a palavra-chave import.\n",
    "'''\n",
    "\n",
    "# Principais formas de importar módulos\n",
    "import numpy # Importar biblioteca completa\n",
    "import numpy as np # Importar biblioteca completa só que se referenciar a ela por um nome diferente\n",
    "from numpy import array # Importar apenas uma funcionalidade específica de um módulo\n",
    "\n",
    "a = numpy.array([10, 20, 30])\n",
    "b = np.array([1, 2, 3])\n",
    "c = array([4, 5, 6])\n",
    "\n",
    "print(a)\n",
    "print(b)\n",
    "print(c)"
   ]
  },
  {
   "cell_type": "markdown",
   "metadata": {},
   "source": [
    "# Classes"
   ]
  },
  {
   "cell_type": "code",
   "execution_count": 12,
   "metadata": {},
   "outputs": [
    {
     "data": {
      "text/markdown": [
       "<br>**Acessando o nome de cada aluno:**"
      ],
      "text/plain": [
       "<IPython.core.display.Markdown object>"
      ]
     },
     "metadata": {},
     "output_type": "display_data"
    },
    {
     "data": {
      "text/plain": [
       "['Amanda', 'Xavier', 'Vinícius', 'Fabiano']"
      ]
     },
     "metadata": {},
     "output_type": "display_data"
    },
    {
     "data": {
      "text/markdown": [
       "<br>**Acessando o nome e o RA de cada aluno:**"
      ],
      "text/plain": [
       "<IPython.core.display.Markdown object>"
      ]
     },
     "metadata": {},
     "output_type": "display_data"
    },
    {
     "data": {
      "text/plain": [
       "[('Amanda', 1), ('Xavier', 2), ('Vinícius', 3), ('Fabiano', 4)]"
      ]
     },
     "metadata": {},
     "output_type": "display_data"
    },
    {
     "data": {
      "text/markdown": [
       "<br>**Agora exibindo o histórico de cada aluno:**"
      ],
      "text/plain": [
       "<IPython.core.display.Markdown object>"
      ]
     },
     "metadata": {},
     "output_type": "display_data"
    },
    {
     "data": {
      "text/markdown": [
       "Nome do Aluno: **Amanda**. RA: **1**"
      ],
      "text/plain": [
       "<IPython.core.display.Markdown object>"
      ]
     },
     "metadata": {},
     "output_type": "display_data"
    },
    {
     "data": {
      "text/markdown": [
       "Nome do Aluno: **Xavier**. RA: **2**"
      ],
      "text/plain": [
       "<IPython.core.display.Markdown object>"
      ]
     },
     "metadata": {},
     "output_type": "display_data"
    },
    {
     "data": {
      "text/markdown": [
       "Nome do Aluno: **Vinícius**. RA: **3**"
      ],
      "text/plain": [
       "<IPython.core.display.Markdown object>"
      ]
     },
     "metadata": {},
     "output_type": "display_data"
    },
    {
     "data": {
      "text/markdown": [
       "Nome do Aluno: **Fabiano**. RA: **4**"
      ],
      "text/plain": [
       "<IPython.core.display.Markdown object>"
      ]
     },
     "metadata": {},
     "output_type": "display_data"
    },
    {
     "data": {
      "text/markdown": [
       "<br>**Exibindo novamente o histórico de cada aluno após finalizarmos a disciplina de catalogação 3:**"
      ],
      "text/plain": [
       "<IPython.core.display.Markdown object>"
      ]
     },
     "metadata": {},
     "output_type": "display_data"
    },
    {
     "data": {
      "text/markdown": [
       "Nome do Aluno: **Amanda**. RA: **1**"
      ],
      "text/plain": [
       "<IPython.core.display.Markdown object>"
      ]
     },
     "metadata": {},
     "output_type": "display_data"
    },
    {
     "data": {
      "text/markdown": [
       "* catalogação 3: nota - **8.38**. frequência - **61%**. **REPROVADO**"
      ],
      "text/plain": [
       "<IPython.core.display.Markdown object>"
      ]
     },
     "metadata": {},
     "output_type": "display_data"
    },
    {
     "data": {
      "text/markdown": [
       "Nome do Aluno: **Xavier**. RA: **2**"
      ],
      "text/plain": [
       "<IPython.core.display.Markdown object>"
      ]
     },
     "metadata": {},
     "output_type": "display_data"
    },
    {
     "data": {
      "text/markdown": [
       "* catalogação 3: nota - **6.74**. frequência - **69%**. **REPROVADO**"
      ],
      "text/plain": [
       "<IPython.core.display.Markdown object>"
      ]
     },
     "metadata": {},
     "output_type": "display_data"
    },
    {
     "data": {
      "text/markdown": [
       "Nome do Aluno: **Vinícius**. RA: **3**"
      ],
      "text/plain": [
       "<IPython.core.display.Markdown object>"
      ]
     },
     "metadata": {},
     "output_type": "display_data"
    },
    {
     "data": {
      "text/markdown": [
       "* catalogação 3: nota - **8.81**. frequência - **87%**. **APROVADO**"
      ],
      "text/plain": [
       "<IPython.core.display.Markdown object>"
      ]
     },
     "metadata": {},
     "output_type": "display_data"
    },
    {
     "data": {
      "text/markdown": [
       "Nome do Aluno: **Fabiano**. RA: **4**"
      ],
      "text/plain": [
       "<IPython.core.display.Markdown object>"
      ]
     },
     "metadata": {},
     "output_type": "display_data"
    },
    {
     "data": {
      "text/markdown": [
       "* catalogação 3: nota - **9.51**. frequência - **63%**. **REPROVADO**"
      ],
      "text/plain": [
       "<IPython.core.display.Markdown object>"
      ]
     },
     "metadata": {},
     "output_type": "display_data"
    },
    {
     "data": {
      "text/markdown": [
       "<br>**Exibindo novamente o histórico de cada aluno após finalizarmos as outras disciplinas:**"
      ],
      "text/plain": [
       "<IPython.core.display.Markdown object>"
      ]
     },
     "metadata": {},
     "output_type": "display_data"
    },
    {
     "data": {
      "text/markdown": [
       "Nome do Aluno: **Amanda**. RA: **1**"
      ],
      "text/plain": [
       "<IPython.core.display.Markdown object>"
      ]
     },
     "metadata": {},
     "output_type": "display_data"
    },
    {
     "data": {
      "text/markdown": [
       "* catalogação 3: nota - **8.38**. frequência - **61%**. **REPROVADO**"
      ],
      "text/plain": [
       "<IPython.core.display.Markdown object>"
      ]
     },
     "metadata": {},
     "output_type": "display_data"
    },
    {
     "data": {
      "text/markdown": [
       "* cálculo 2: nota - **7.40**. frequência - **61%**. **REPROVADO**"
      ],
      "text/plain": [
       "<IPython.core.display.Markdown object>"
      ]
     },
     "metadata": {},
     "output_type": "display_data"
    },
    {
     "data": {
      "text/markdown": [
       "* compiladores: nota - **6.48**. frequência - **80%**. **APROVADO**"
      ],
      "text/plain": [
       "<IPython.core.display.Markdown object>"
      ]
     },
     "metadata": {},
     "output_type": "display_data"
    },
    {
     "data": {
      "text/markdown": [
       "* libras: nota - **5.62**. frequência - **68%**. **REPROVADO**"
      ],
      "text/plain": [
       "<IPython.core.display.Markdown object>"
      ]
     },
     "metadata": {},
     "output_type": "display_data"
    },
    {
     "data": {
      "text/markdown": [
       "Nome do Aluno: **Xavier**. RA: **2**"
      ],
      "text/plain": [
       "<IPython.core.display.Markdown object>"
      ]
     },
     "metadata": {},
     "output_type": "display_data"
    },
    {
     "data": {
      "text/markdown": [
       "* catalogação 3: nota - **6.74**. frequência - **69%**. **REPROVADO**"
      ],
      "text/plain": [
       "<IPython.core.display.Markdown object>"
      ]
     },
     "metadata": {},
     "output_type": "display_data"
    },
    {
     "data": {
      "text/markdown": [
       "* cálculo 2: nota - **8.42**. frequência - **82%**. **APROVADO**"
      ],
      "text/plain": [
       "<IPython.core.display.Markdown object>"
      ]
     },
     "metadata": {},
     "output_type": "display_data"
    },
    {
     "data": {
      "text/markdown": [
       "* compiladores: nota - **6.49**. frequência - **84%**. **APROVADO**"
      ],
      "text/plain": [
       "<IPython.core.display.Markdown object>"
      ]
     },
     "metadata": {},
     "output_type": "display_data"
    },
    {
     "data": {
      "text/markdown": [
       "* libras: nota - **9.14**. frequência - **60%**. **REPROVADO**"
      ],
      "text/plain": [
       "<IPython.core.display.Markdown object>"
      ]
     },
     "metadata": {},
     "output_type": "display_data"
    },
    {
     "data": {
      "text/markdown": [
       "Nome do Aluno: **Vinícius**. RA: **3**"
      ],
      "text/plain": [
       "<IPython.core.display.Markdown object>"
      ]
     },
     "metadata": {},
     "output_type": "display_data"
    },
    {
     "data": {
      "text/markdown": [
       "* catalogação 3: nota - **8.81**. frequência - **87%**. **APROVADO**"
      ],
      "text/plain": [
       "<IPython.core.display.Markdown object>"
      ]
     },
     "metadata": {},
     "output_type": "display_data"
    },
    {
     "data": {
      "text/markdown": [
       "* cálculo 2: nota - **9.13**. frequência - **88%**. **APROVADO**"
      ],
      "text/plain": [
       "<IPython.core.display.Markdown object>"
      ]
     },
     "metadata": {},
     "output_type": "display_data"
    },
    {
     "data": {
      "text/markdown": [
       "* compiladores: nota - **7.03**. frequência - **66%**. **REPROVADO**"
      ],
      "text/plain": [
       "<IPython.core.display.Markdown object>"
      ]
     },
     "metadata": {},
     "output_type": "display_data"
    },
    {
     "data": {
      "text/markdown": [
       "* libras: nota - **9.81**. frequência - **73%**. **REPROVADO**"
      ],
      "text/plain": [
       "<IPython.core.display.Markdown object>"
      ]
     },
     "metadata": {},
     "output_type": "display_data"
    },
    {
     "data": {
      "text/markdown": [
       "Nome do Aluno: **Fabiano**. RA: **4**"
      ],
      "text/plain": [
       "<IPython.core.display.Markdown object>"
      ]
     },
     "metadata": {},
     "output_type": "display_data"
    },
    {
     "data": {
      "text/markdown": [
       "* catalogação 3: nota - **9.51**. frequência - **63%**. **REPROVADO**"
      ],
      "text/plain": [
       "<IPython.core.display.Markdown object>"
      ]
     },
     "metadata": {},
     "output_type": "display_data"
    },
    {
     "data": {
      "text/markdown": [
       "* cálculo 2: nota - **5.92**. frequência - **64%**. **REPROVADO**"
      ],
      "text/plain": [
       "<IPython.core.display.Markdown object>"
      ]
     },
     "metadata": {},
     "output_type": "display_data"
    },
    {
     "data": {
      "text/markdown": [
       "* compiladores: nota - **9.31**. frequência - **84%**. **APROVADO**"
      ],
      "text/plain": [
       "<IPython.core.display.Markdown object>"
      ]
     },
     "metadata": {},
     "output_type": "display_data"
    },
    {
     "data": {
      "text/markdown": [
       "* libras: nota - **9.13**. frequência - **89%**. **APROVADO**"
      ],
      "text/plain": [
       "<IPython.core.display.Markdown object>"
      ]
     },
     "metadata": {},
     "output_type": "display_data"
    }
   ],
   "source": [
    "from IPython.display import Markdown, display # Utilizando display e Markdown para formatação(neste caso, deixar o texto em negrito, quebra de -\n",
    "# linha, etc)\n",
    "import random\n",
    "\n",
    "random.seed(42)\n",
    "\n",
    "class Aluno: # O início de declaração de uma classe se assemelha a outras estruturas de contrule de fluxo, mas aqui é de controle de estrutura\n",
    "  ultimo_RA = 0 # Variáveis declaradas dentro da classe são acessíveis e globais a todos os elementos do tipo da classe\n",
    "\n",
    "  def __init__(self, nome): # A função __init__(self, parametros) é uma função \"mágica\" que sempre quando declarada numa classe, inicializa -\n",
    "# cada objeto do tipo da classe\n",
    "    self.nome = nome # self referencia o objeto que está sendo inicializado. A partir desta palavra chave é possível inicializar os atributos -\n",
    "# dos objetos do tipo da classe no momento de sua criação.\n",
    "    Aluno.ultimo_RA+=1 # Para acessar variáveis que são globais a todos objetos daquela classe, é necessário referênciar o nome da classe.\n",
    "    self.RA = Aluno.ultimo_RA\n",
    "    self.IRA = 20000\n",
    "    self.historico = {}\n",
    "\n",
    "  def finalizar_disciplina(self, disciplina, nota, frequencia): # Objetos de uma classe podem ter suas próprias funções especiais.\n",
    "    # Estas funções especiais, quase são referentes a um objeto específico daquela classe, devem incluir a palavra chave \"self\".\n",
    "    # Ela permite acessar as informações e outras funções daquela instância da classe.\n",
    "    self.historico[disciplina] = {'nota' : nota, 'frequencia' : frequencia}\n",
    "\n",
    "  def exibir_historico(self):\n",
    "    display(Markdown(f'Nome do Aluno: **{self.nome}**. RA: **{self.RA}**'))\n",
    "    for disciplina, avaliacao in self.historico.items():\n",
    "      display(Markdown(f'''* {disciplina}: nota - **{avaliacao[\"nota\"]:.2f}**. frequência - **{avaliacao[\"frequencia\"]:.0%}**. **{\"APROVADO\"\n",
    "       if avaliacao[\"nota\"] >= 6.0 and avaliacao[\"frequencia\"] >= 0.8 else \"REPROVADO\"}**'''))\n",
    "\n",
    "lista_alunos = [\n",
    "    Aluno('Amanda'),\n",
    "    Aluno('Xavier'),\n",
    "    Aluno('Vinícius'),\n",
    "    Aluno('Fabiano')\n",
    "]\n",
    "\n",
    "display(Markdown('<br>**Acessando o nome de cada aluno:**'), [aluno.nome for aluno in lista_alunos])\n",
    "display(Markdown('<br>**Acessando o nome e o RA de cada aluno:**'), [(aluno.nome, aluno.RA) for aluno in lista_alunos])\n",
    "\n",
    "display(Markdown('<br>**Agora exibindo o histórico de cada aluno:**'))\n",
    "[aluno.exibir_historico() for aluno in lista_alunos]\n",
    "\n",
    "[aluno.finalizar_disciplina('catalogação 3', random.uniform(5.5, 10.0), random.uniform(0.6, 1.0)) for aluno in lista_alunos]\n",
    "\n",
    "display(Markdown('<br>**Exibindo novamente o histórico de cada aluno após finalizarmos a disciplina de catalogação 3:**'))\n",
    "[aluno.exibir_historico() for aluno in lista_alunos];\n",
    "\n",
    "lista_disciplinas = [\n",
    "    \"cálculo 2\",\n",
    "    \"compiladores\",\n",
    "    \"libras\"\n",
    "]\n",
    "\n",
    "[[aluno.finalizar_disciplina(disciplina, random.uniform(5.5, 10.0), random.uniform(0.6, 1.0))\n",
    "  for disciplina in lista_disciplinas]\n",
    "    for aluno in lista_alunos];\n",
    "\n",
    "display(Markdown('<br>**Exibindo novamente o histórico de cada aluno após finalizarmos as outras disciplinas:**'))\n",
    "[aluno.exibir_historico() for aluno in lista_alunos];"
   ]
  }
 ],
 "metadata": {
  "kernelspec": {
   "display_name": ".venv",
   "language": "python",
   "name": "python3"
  },
  "language_info": {
   "codemirror_mode": {
    "name": "ipython",
    "version": 3
   },
   "file_extension": ".py",
   "mimetype": "text/x-python",
   "name": "python",
   "nbconvert_exporter": "python",
   "pygments_lexer": "ipython3",
   "version": "3.8.10"
  },
  "orig_nbformat": 4
 },
 "nbformat": 4,
 "nbformat_minor": 2
}
