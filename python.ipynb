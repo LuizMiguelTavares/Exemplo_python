{
 "cells": [
  {
   "cell_type": "markdown",
   "metadata": {},
   "source": [
    "# Sintaxe"
   ]
  },
  {
   "cell_type": "markdown",
   "metadata": {},
   "source": [
    "#### Identação"
   ]
  },
  {
   "cell_type": "code",
   "execution_count": 2,
   "metadata": {},
   "outputs": [
    {
     "name": "stdout",
     "output_type": "stream",
     "text": [
      "Identação.\n"
     ]
    }
   ],
   "source": [
    "if True:\n",
    "    print(\"Identação.\")"
   ]
  },
  {
   "cell_type": "markdown",
   "metadata": {},
   "source": [
    "#### Comentários"
   ]
  },
  {
   "cell_type": "code",
   "execution_count": 3,
   "metadata": {},
   "outputs": [
    {
     "name": "stdout",
     "output_type": "stream",
     "text": [
      "Hello, World!\n",
      "Hello, World!\n"
     ]
    }
   ],
   "source": [
    "print(\"Hello, World!\")  # Comentário de uma linha\n",
    "\n",
    "'''\n",
    "Comentário de \n",
    "múltiplas linhas\n",
    "'''\n",
    "\n",
    "print('Hello, World!')"
   ]
  },
  {
   "cell_type": "markdown",
   "metadata": {},
   "source": [
    "#### Ponto e vírgula e continuação de linha"
   ]
  },
  {
   "cell_type": "code",
   "execution_count": 6,
   "metadata": {},
   "outputs": [
    {
     "name": "stdout",
     "output_type": "stream",
     "text": [
      "Hello, \n",
      "World!\n",
      "15\n",
      "15\n"
     ]
    }
   ],
   "source": [
    "print(\"Hello, \"); print(\"World!\") # 2 comandos em uma única linha utilizando ponto e vírgula\n",
    "\n",
    "# Utilizando contra-barra\n",
    "sum_value_1 = 1 + 2 + 3 + \\\n",
    "            4 + 5\n",
    "            \n",
    "# Utilizando parenteses\n",
    "sum_value_2 = (1 + 2 + 3 +\n",
    "             4 + 5)\n",
    "\n",
    "print(sum_value_1); print(sum_value_2)"
   ]
  },
  {
   "cell_type": "markdown",
   "metadata": {},
   "source": [
    "#### Blococs de código"
   ]
  },
  {
   "cell_type": "code",
   "execution_count": 9,
   "metadata": {},
   "outputs": [
    {
     "name": "stdout",
     "output_type": "stream",
     "text": [
      "Bloco IF\n",
      "IF 0\n",
      "IF 1\n",
      "IF 2\n"
     ]
    }
   ],
   "source": [
    "if True:\n",
    "    print(\"Bloco IF\")\n",
    "    for i in range(3):\n",
    "        print(f\"IF {i}\")\n",
    "else:\n",
    "    print(\"Bloco ELSE\")"
   ]
  },
  {
   "cell_type": "markdown",
   "metadata": {},
   "source": [
    "## Variáveis e Tipos de Dados"
   ]
  },
  {
   "cell_type": "markdown",
   "metadata": {},
   "source": [
    "#### Declaração e Nomeação de Variáveis"
   ]
  },
  {
   "cell_type": "code",
   "execution_count": 5,
   "metadata": {},
   "outputs": [],
   "source": [
    "x = 10  # Inteiro\n",
    "y = 20.5  # Float\n",
    "name = \"John\"  # String\n",
    "is_valid = True  # Lógico"
   ]
  },
  {
   "cell_type": "markdown",
   "metadata": {},
   "source": [
    "#### Conversão de Variáveis"
   ]
  },
  {
   "cell_type": "code",
   "execution_count": 6,
   "metadata": {},
   "outputs": [
    {
     "name": "stdout",
     "output_type": "stream",
     "text": [
      "10 , 5.0\n",
      "<class 'int'>\n"
     ]
    }
   ],
   "source": [
    "x = int(\"10\")  # Converte string \"10\" para inteiro 10\n",
    "y = float(5)  # Converte inteiro 5 para float 5.0\n",
    "\n",
    "print(x, ',', y)\n",
    "\n",
    "print(type(x))"
   ]
  },
  {
   "cell_type": "markdown",
   "metadata": {},
   "source": [
    "# String"
   ]
  },
  {
   "cell_type": "code",
   "execution_count": 10,
   "metadata": {},
   "outputs": [],
   "source": [
    "# Aspas Simples\n",
    "single_quote_str = 'Hello, World!'\n",
    "\n",
    "# Aspas Duplas\n",
    "double_quote_str = \"Hello, World!\"\n",
    "\n",
    "# String de múltiplas linhas\n",
    "multi_line_str = '''\n",
    "Hello,\n",
    "World!\n",
    "'''"
   ]
  },
  {
   "cell_type": "markdown",
   "metadata": {},
   "source": [
    "#### Indexação e Corte de String"
   ]
  },
  {
   "cell_type": "code",
   "execution_count": 12,
   "metadata": {},
   "outputs": [
    {
     "name": "stdout",
     "output_type": "stream",
     "text": [
      "H\n",
      "Hello\n"
     ]
    }
   ],
   "source": [
    "my_string = \"Hello, World!\"\n",
    "print(my_string[0]) \n",
    "\n",
    "print(my_string[0:5])"
   ]
  },
  {
   "cell_type": "markdown",
   "metadata": {},
   "source": [
    "#### Funçãoes Simples para Strings"
   ]
  },
  {
   "cell_type": "code",
   "execution_count": 16,
   "metadata": {},
   "outputs": [
    {
     "name": "stdout",
     "output_type": "stream",
     "text": [
      "13\n",
      "['Hello', ' World!']\n",
      "Hello, World!\n",
      "Hello, Everyone!\n"
     ]
    }
   ],
   "source": [
    "texto = \"Hello, World!\"\n",
    "print(len(texto)) # Tamanho da string (len = 'length' )\n",
    "print(texto.split(',')) # Cortar a string em ',' \n",
    "print(', '.join(['Hello', 'World!']))  # Junta strings\n",
    "print(texto.replace('World', 'Everyone'))"
   ]
  },
  {
   "cell_type": "markdown",
   "metadata": {},
   "source": [
    "#### Formatação de Strings"
   ]
  },
  {
   "cell_type": "markdown",
   "metadata": {},
   "source": [
    "##### f strings"
   ]
  },
  {
   "cell_type": "code",
   "execution_count": 17,
   "metadata": {},
   "outputs": [
    {
     "name": "stdout",
     "output_type": "stream",
     "text": [
      "Hello, Alice!\n"
     ]
    }
   ],
   "source": [
    "name = \"Alice\"\n",
    "print(f\"Hello, {name}!\")"
   ]
  },
  {
   "cell_type": "code",
   "execution_count": 20,
   "metadata": {},
   "outputs": [
    {
     "name": "stdout",
     "output_type": "stream",
     "text": [
      "Hello\n",
      "World!\n",
      "\n",
      "Hello\tWorld!\n",
      "Backslash: \\\n"
     ]
    }
   ],
   "source": [
    "print(\"Hello\\nWorld!\\n\")  # \\n pula linha\n",
    "print(\"Hello\\tWorld!\")  # \\t insere um tab\n",
    "print(\"Backslash: \\\\\")  # Para utilizar contrabarra"
   ]
  },
  {
   "cell_type": "markdown",
   "metadata": {},
   "source": [
    "# Números"
   ]
  },
  {
   "cell_type": "markdown",
   "metadata": {},
   "source": [
    "#### Operações Aritiméticas"
   ]
  },
  {
   "cell_type": "code",
   "execution_count": 24,
   "metadata": {},
   "outputs": [
    {
     "name": "stdout",
     "output_type": "stream",
     "text": [
      "14\n",
      "8\n",
      "33\n",
      "3.6666666666666665\n",
      "3\n",
      "2\n",
      "1331\n"
     ]
    }
   ],
   "source": [
    "x = 11\n",
    "y = 3\n",
    "\n",
    "print(x + y)  # Soma\n",
    "print(x - y)  # Subtração\n",
    "print(x * y)  # Multiplicação\n",
    "print(x / y)  # Divisão \n",
    "print(x // y) # Divisão inteira (Arredonda para baixo)\n",
    "print(x % y)  # Resto da divisão\n",
    "print(x ** y) # Potência"
   ]
  },
  {
   "cell_type": "markdown",
   "metadata": {},
   "source": [
    "#### Operações de Comparação"
   ]
  },
  {
   "cell_type": "code",
   "execution_count": 26,
   "metadata": {},
   "outputs": [
    {
     "name": "stdout",
     "output_type": "stream",
     "text": [
      "True\n",
      "False\n",
      "True\n",
      "False\n",
      "True\n",
      "True\n"
     ]
    }
   ],
   "source": [
    "print(10 > 5)   # Maior que\n",
    "print(10 < 5)   # Menor que\n",
    "print(10 >= 5)  # Maior ou igual a\n",
    "print(10 <= 5)  # Menor ou igual a\n",
    "print(10 == 10) # Igual (diferente de '=' -> 'recebe')\n",
    "print(10 != 5)  # Diferente"
   ]
  },
  {
   "cell_type": "markdown",
   "metadata": {},
   "source": [
    "#### Biblioteca math"
   ]
  },
  {
   "cell_type": "code",
   "execution_count": 2,
   "metadata": {},
   "outputs": [
    {
     "name": "stdout",
     "output_type": "stream",
     "text": [
      "4.0\n",
      "8.0\n",
      "3.141592653589793\n"
     ]
    }
   ],
   "source": [
    "import math\n",
    "\n",
    "print(math.sqrt(16))  # Raís quadrada\n",
    "print(math.pow(2, 3)) # Potência\n",
    "print(math.pi)        # Pi"
   ]
  },
  {
   "cell_type": "markdown",
   "metadata": {},
   "source": [
    "#### Números Complexos"
   ]
  },
  {
   "cell_type": "code",
   "execution_count": 10,
   "metadata": {},
   "outputs": [
    {
     "name": "stdout",
     "output_type": "stream",
     "text": [
      "(8+6j)\n",
      "(3-4j)\n",
      "8.0 6.0\n",
      "5.0\n",
      "0.6435011087932844\n",
      "36.86989764584402\n"
     ]
    }
   ],
   "source": [
    "x = 3 + 4j\n",
    "y = 5 + 2j\n",
    "\n",
    "# Aritimética com números complexos\n",
    "z = x + y\n",
    "print(z)\n",
    "\n",
    "# Conjugado Complexo\n",
    "print(x.conjugate())\n",
    "\n",
    "# Extrair parte real e imaginária\n",
    "a = z.real\n",
    "b = z.imag\n",
    "print(a, b)\n",
    "\n",
    "# Magnitude\n",
    "print(abs(x))  # Output: 5.0\n",
    "\n",
    "# Cálculo do ângulo em radiano\n",
    "theta = math.atan2(b, a)\n",
    "print(theta)\n",
    "\n",
    "# Cálculo do ângulo em graus\n",
    "theta_graus = math.degrees(theta)\n",
    "print(theta_graus)"
   ]
  },
  {
   "cell_type": "markdown",
   "metadata": {},
   "source": [
    "# Listas, Tuplas e Dicionários"
   ]
  },
  {
   "cell_type": "markdown",
   "metadata": {},
   "source": [
    "### Listas"
   ]
  },
  {
   "cell_type": "markdown",
   "metadata": {},
   "source": [
    "#### Inicialização"
   ]
  },
  {
   "cell_type": "code",
   "execution_count": 31,
   "metadata": {},
   "outputs": [],
   "source": [
    "lista = [1, 2, 3, \"olá\", 4.5]\n",
    "lista_vazia = []"
   ]
  },
  {
   "cell_type": "markdown",
   "metadata": {},
   "source": [
    "#### Indexação"
   ]
  },
  {
   "cell_type": "code",
   "execution_count": 37,
   "metadata": {},
   "outputs": [
    {
     "name": "stdout",
     "output_type": "stream",
     "text": [
      "1\n",
      "olá\n",
      "[3, 'olá']\n",
      "[1, 2, 3]\n"
     ]
    }
   ],
   "source": [
    "print(lista[0])   # Primeiro Valor\n",
    "print(lista[-1])  # Último Valor\n",
    "\n",
    "# Slice de lista\n",
    "print(lista[2:]) \n",
    "print(lista[:3])"
   ]
  },
  {
   "cell_type": "markdown",
   "metadata": {},
   "source": [
    "#### Métodos Importantes"
   ]
  },
  {
   "cell_type": "code",
   "execution_count": 38,
   "metadata": {},
   "outputs": [
    {
     "name": "stdout",
     "output_type": "stream",
     "text": [
      "Lista inicial: [1, 2, 3, 'olá']\n",
      "Lista com append: [1, 2, 3, 'olá', 'novo_item']\n",
      "Lista com remove: [1, 2, 3, 'olá']\n",
      "Lista depois de pop: [1, 2, 3]\n",
      "Último ítem: olá\n",
      "Lista de números ordenada: [1, 1.57, 4, 5.3]\n",
      "Lista de String Ordenada ['abacaxi', 'banana', 'maçã', 'pessego']\n"
     ]
    }
   ],
   "source": [
    "print(f'Lista inicial: {lista}')\n",
    "\n",
    "lista.append(\"novo_item\")\n",
    "print(f'Lista com append: {lista}')\n",
    "\n",
    "lista.remove(\"novo_item\")\n",
    "print(f'Lista com remove: {lista}')\n",
    "\n",
    "ultimo_item = lista.pop()\n",
    "print(f\"Lista depois de pop: {lista}\")\n",
    "print(f\"Último ítem: {ultimo_item}\")\n",
    "\n",
    "lista_sort_num = [4, 1, 5.3, 1.57]\n",
    "lista_sort_num.sort()  # Ordenar a lista OBS.:Funciona em listas com apenas números ou apenas strings\n",
    "print(f\"Lista de números ordenada: {lista_sort_num}\")\n",
    "\n",
    "lista_sort_stiring = ['banana', 'pessego', 'maçã', 'abacaxi']\n",
    "lista_sort_stiring.sort()\n",
    "print(f\"Lista de String Ordenada {lista_sort_stiring}\")"
   ]
  },
  {
   "cell_type": "markdown",
   "metadata": {},
   "source": [
    "### Tupla"
   ]
  },
  {
   "cell_type": "code",
   "execution_count": 40,
   "metadata": {},
   "outputs": [
    {
     "name": "stdout",
     "output_type": "stream",
     "text": [
      "1\n"
     ]
    }
   ],
   "source": [
    "minha_tupla = (1, 2, 3, \"ola\")\n",
    "print(minha_tupla[0])"
   ]
  },
  {
   "cell_type": "markdown",
   "metadata": {},
   "source": [
    "#### Imutabilidade"
   ]
  },
  {
   "cell_type": "code",
   "execution_count": 41,
   "metadata": {},
   "outputs": [
    {
     "ename": "TypeError",
     "evalue": "'tuple' object does not support item assignment",
     "output_type": "error",
     "traceback": [
      "\u001b[0;31m---------------------------------------------------------------------------\u001b[0m",
      "\u001b[0;31mTypeError\u001b[0m                                 Traceback (most recent call last)",
      "Cell \u001b[0;32mIn[41], line 1\u001b[0m\n\u001b[0;32m----> 1\u001b[0m minha_tupla[\u001b[39m0\u001b[39;49m] \u001b[39m=\u001b[39m \u001b[39m4\u001b[39m  \u001b[39m# Isso causará um TypeError\u001b[39;00m\n",
      "\u001b[0;31mTypeError\u001b[0m: 'tuple' object does not support item assignment"
     ]
    }
   ],
   "source": [
    "minha_tupla[0] = 4  # Isso causará um TypeError"
   ]
  },
  {
   "cell_type": "markdown",
   "metadata": {},
   "source": [
    "### Dicionários"
   ]
  },
  {
   "cell_type": "code",
   "execution_count": 43,
   "metadata": {},
   "outputs": [
    {
     "name": "stdout",
     "output_type": "stream",
     "text": [
      "valor1\n"
     ]
    }
   ],
   "source": [
    "meu_dict = {\"chave1\": \"valor1\", \"chave2\": \"valor2\", \"chave3\": 3}\n",
    "print(meu_dict[\"chave1\"])"
   ]
  },
  {
   "cell_type": "markdown",
   "metadata": {},
   "source": [
    "#### Métodos importantes"
   ]
  },
  {
   "cell_type": "code",
   "execution_count": 45,
   "metadata": {},
   "outputs": [
    {
     "name": "stdout",
     "output_type": "stream",
     "text": [
      "dict_keys(['chave1', 'chave2', 'chave3'])\n",
      "dict_values(['valor1', 'valor2', 3])\n",
      "dict_items([('chave1', 'valor1'), ('chave2', 'valor2'), ('chave3', 3)])\n"
     ]
    }
   ],
   "source": [
    "print(meu_dict.keys())   \n",
    "print(meu_dict.values())\n",
    "print(meu_dict.items())  "
   ]
  },
  {
   "cell_type": "markdown",
   "metadata": {},
   "source": [
    "### Listas, Tuplas e Dicionários Aninhados"
   ]
  },
  {
   "cell_type": "code",
   "execution_count": 46,
   "metadata": {},
   "outputs": [],
   "source": [
    "lista_aninhada = [[1, 2], [3, 4]]\n",
    "dict_aninhado = {\"chave1\": {\"subchave\": \"valor\"}}\n",
    "tupla_aninhada = ((1, 2), (3, 4))"
   ]
  },
  {
   "cell_type": "markdown",
   "metadata": {},
   "source": [
    "# Extruturas de Controle"
   ]
  },
  {
   "cell_type": "markdown",
   "metadata": {},
   "source": [
    "#### IF"
   ]
  },
  {
   "cell_type": "code",
   "execution_count": null,
   "metadata": {},
   "outputs": [],
   "source": [
    "if True:\n",
    "    print(\"Esta condição é verdadeira.\")"
   ]
  },
  {
   "cell_type": "markdown",
   "metadata": {},
   "source": [
    "#### ELIF  - Multiplas Condições"
   ]
  },
  {
   "cell_type": "code",
   "execution_count": 50,
   "metadata": {},
   "outputs": [
    {
     "name": "stdout",
     "output_type": "stream",
     "text": [
      "Menor de idade.\n"
     ]
    }
   ],
   "source": [
    "idade = 10\n",
    "if idade < 18:\n",
    "    print(\"Menor de idade.\")\n",
    "elif idade >= 18 and idade < 60:\n",
    "    print(\"Adulto.\")"
   ]
  },
  {
   "cell_type": "markdown",
   "metadata": {},
   "source": [
    "#### ELSE"
   ]
  },
  {
   "cell_type": "code",
   "execution_count": 51,
   "metadata": {},
   "outputs": [
    {
     "name": "stdout",
     "output_type": "stream",
     "text": [
      "Idoso.\n"
     ]
    }
   ],
   "source": [
    "idade = 65\n",
    "if idade < 18:\n",
    "    print(\"Menor de idade.\")\n",
    "elif idade >= 18 and idade < 60:\n",
    "    print(\"Adulto.\")\n",
    "else:\n",
    "    print(\"Idoso.\")"
   ]
  },
  {
   "cell_type": "markdown",
   "metadata": {},
   "source": [
    "### Loops"
   ]
  },
  {
   "cell_type": "markdown",
   "metadata": {},
   "source": [
    "#### For"
   ]
  },
  {
   "cell_type": "code",
   "execution_count": 54,
   "metadata": {},
   "outputs": [
    {
     "name": "stdout",
     "output_type": "stream",
     "text": [
      "1\n",
      "2\n",
      "3\n",
      "\n",
      "\n",
      "key1 value1\n",
      "key2 value2\n",
      "\n",
      "\n",
      "0\n",
      "1\n",
      "2\n"
     ]
    }
   ],
   "source": [
    "# Iterar sobre uma lista\n",
    "for i in [1, 2, 3]:\n",
    "    print(i)\n",
    "\n",
    "print('\\n')\n",
    "\n",
    "# Iterar sobre um dicionário\n",
    "for key, value in {\"key1\": \"value1\", \"key2\": \"value2\"}.items():\n",
    "    print(key, value)\n",
    "    \n",
    "print('\\n')\n",
    "\n",
    "# Iterar usando range\n",
    "for i in range(3):\n",
    "    print(i)\n"
   ]
  },
  {
   "cell_type": "markdown",
   "metadata": {},
   "source": [
    "### While"
   ]
  },
  {
   "cell_type": "code",
   "execution_count": 56,
   "metadata": {},
   "outputs": [
    {
     "name": "stdout",
     "output_type": "stream",
     "text": [
      "0\n",
      "1\n",
      "2\n",
      "3\n",
      "4\n"
     ]
    }
   ],
   "source": [
    "contador = 0\n",
    "while contador < 5:\n",
    "    print(contador)\n",
    "    contador += 1"
   ]
  },
  {
   "cell_type": "markdown",
   "metadata": {},
   "source": [
    "### Break, Continue e Pass"
   ]
  },
  {
   "cell_type": "code",
   "execution_count": 59,
   "metadata": {},
   "outputs": [
    {
     "name": "stdout",
     "output_type": "stream",
     "text": [
      "0\n",
      "1\n",
      "\n",
      "\n",
      "0\n",
      "1\n",
      "3\n",
      "4\n",
      "\n",
      "\n"
     ]
    }
   ],
   "source": [
    "# Uso de break\n",
    "for i in range(5):\n",
    "    if i == 2:\n",
    "        break # Para o Código\n",
    "    print(i)\n",
    "\n",
    "print('\\n')\n",
    "\n",
    "# Uso de continue\n",
    "for i in range(5):\n",
    "    if i == 2:\n",
    "        continue # Retorna deste ponto ao início do loop\n",
    "    print(i)\n",
    "\n",
    "# Uso de pass\n",
    "for i in range(5):\n",
    "    pass # Não faz nada"
   ]
  },
  {
   "cell_type": "markdown",
   "metadata": {},
   "source": [
    "# Funções"
   ]
  },
  {
   "cell_type": "markdown",
   "metadata": {},
   "source": [
    "### Definição de função"
   ]
  },
  {
   "cell_type": "code",
   "execution_count": 61,
   "metadata": {},
   "outputs": [
    {
     "name": "stdout",
     "output_type": "stream",
     "text": [
      "Olá, mundo!\n"
     ]
    }
   ],
   "source": [
    "def minha_funcao():\n",
    "    print(\"Olá, mundo!\")\n",
    "\n",
    "minha_funcao()"
   ]
  },
  {
   "cell_type": "markdown",
   "metadata": {},
   "source": [
    "### Parâmentros de uma Função"
   ]
  },
  {
   "cell_type": "code",
   "execution_count": 62,
   "metadata": {},
   "outputs": [
    {
     "name": "stdout",
     "output_type": "stream",
     "text": [
      "Olá, Maria\n"
     ]
    }
   ],
   "source": [
    "def saudacao(nome):\n",
    "    print(f\"Olá, {nome}\")\n",
    "\n",
    "saudacao(nome='Maria')"
   ]
  },
  {
   "cell_type": "markdown",
   "metadata": {},
   "source": [
    "#### Args e Kwargs - Comprimento Variável"
   ]
  },
  {
   "cell_type": "code",
   "execution_count": 63,
   "metadata": {},
   "outputs": [
    {
     "name": "stdout",
     "output_type": "stream",
     "text": [
      "(10, 'teste', 23) {'nome': 'Maria', 'Ano': '2023'}\n"
     ]
    }
   ],
   "source": [
    "# Args = arguments\n",
    "# Kwargs = keyword arguments\n",
    "def funcao(*args, **kwargs):\n",
    "    print(args, kwargs)\n",
    "\n",
    "funcao(10, 'teste', 23, nome='Maria', Ano='2023')"
   ]
  },
  {
   "cell_type": "markdown",
   "metadata": {},
   "source": [
    "### Retorno"
   ]
  },
  {
   "cell_type": "code",
   "execution_count": 64,
   "metadata": {},
   "outputs": [
    {
     "data": {
      "text/plain": [
       "30"
      ]
     },
     "execution_count": 64,
     "metadata": {},
     "output_type": "execute_result"
    }
   ],
   "source": [
    "def somar(a, b):\n",
    "    return a + b # Retorna o resultado\n",
    "\n",
    "somar(10, 20)"
   ]
  },
  {
   "cell_type": "markdown",
   "metadata": {},
   "source": [
    "### Docstrings"
   ]
  },
  {
   "cell_type": "code",
   "execution_count": 65,
   "metadata": {},
   "outputs": [],
   "source": [
    "def minha_funcao():\n",
    "    \"\"\"Esta é uma docstring.\"\"\"\n",
    "    pass"
   ]
  },
  {
   "cell_type": "code",
   "execution_count": 69,
   "metadata": {},
   "outputs": [
    {
     "name": "stdout",
     "output_type": "stream",
     "text": [
      "25\n"
     ]
    }
   ],
   "source": [
    "def quadrado(numero):\n",
    "    return numero**2\n",
    "\n",
    "def executar_funcao(funcao, valor):\n",
    "    return funcao(valor)\n",
    "\n",
    "resultado = executar_funcao(quadrado, 5)\n",
    "print(resultado)"
   ]
  },
  {
   "cell_type": "markdown",
   "metadata": {},
   "source": [
    "### Funções Lambda (Anônimas)"
   ]
  },
  {
   "cell_type": "code",
   "execution_count": 10,
   "metadata": {},
   "outputs": [
    {
     "name": "stdout",
     "output_type": "stream",
     "text": [
      "25\n",
      "25\n"
     ]
    }
   ],
   "source": [
    "# lambda argumentos: expressao\n",
    "\n",
    "quadrado_lbd = lambda x: x * x\n",
    "print(quadrado_lbd(5))\n",
    "\n",
    "def quadrado(x):\n",
    "    return x * x\n",
    "\n",
    "print(quadrado(5))"
   ]
  },
  {
   "cell_type": "markdown",
   "metadata": {},
   "source": [
    "### Utilização Comum"
   ]
  },
  {
   "cell_type": "code",
   "execution_count": 17,
   "metadata": {},
   "outputs": [
    {
     "name": "stdout",
     "output_type": "stream",
     "text": [
      "[{'nome': 'Carlos', 'idade': 20}, {'nome': 'João', 'idade': 15}, {'nome': 'Maria', 'idade': 25}]\n"
     ]
    }
   ],
   "source": [
    "'''\n",
    "Funções como Argumento\n",
    "\n",
    "As funções lambda são frequentemente usadas como argumentos para outras funções de alta ordem como map(), filter() e sorted().\n",
    "'''\n",
    "\n",
    "# Ordenar uma lista de dicionários por um campo específico\n",
    "lista = [{'nome': 'João', 'idade': 15}, {'nome': 'Maria', 'idade': 25}, {'nome': 'Carlos', 'idade': 20}]\n",
    "lista_ordenada = sorted(lista, key=lambda x: x['nome'])\n",
    "print(lista_ordenada)\n"
   ]
  },
  {
   "cell_type": "markdown",
   "metadata": {},
   "source": [
    "#### Lambda Múltiplos Argumentos"
   ]
  },
  {
   "cell_type": "code",
   "execution_count": 7,
   "metadata": {},
   "outputs": [
    {
     "name": "stdout",
     "output_type": "stream",
     "text": [
      "7\n"
     ]
    }
   ],
   "source": [
    "soma = lambda x, y: x + y\n",
    "print(soma(3, 4))"
   ]
  },
  {
   "cell_type": "markdown",
   "metadata": {},
   "source": [
    "### Funções Aninhadas"
   ]
  },
  {
   "cell_type": "code",
   "execution_count": 6,
   "metadata": {},
   "outputs": [
    {
     "data": {
      "text/plain": [
       "49"
      ]
     },
     "execution_count": 6,
     "metadata": {},
     "output_type": "execute_result"
    }
   ],
   "source": [
    "def externa(x, y, z):\n",
    "    def interna(a, b):\n",
    "        return a + b\n",
    "    \n",
    "    v = interna(y, z)\n",
    "    return v**x\n",
    "\n",
    "externa(2, 3, 4)"
   ]
  },
  {
   "cell_type": "markdown",
   "metadata": {},
   "source": [
    "### Funções Recursivas"
   ]
  },
  {
   "cell_type": "code",
   "execution_count": 1,
   "metadata": {},
   "outputs": [
    {
     "data": {
      "text/plain": [
       "3628800"
      ]
     },
     "execution_count": 1,
     "metadata": {},
     "output_type": "execute_result"
    }
   ],
   "source": [
    "def fatorial(n):\n",
    "    if n == 0:\n",
    "        return 1\n",
    "    else:\n",
    "        return n * fatorial(n-1)\n",
    "\n",
    "fatorial(10)"
   ]
  }
 ],
 "metadata": {
  "kernelspec": {
   "display_name": ".venv",
   "language": "python",
   "name": "python3"
  },
  "language_info": {
   "codemirror_mode": {
    "name": "ipython",
    "version": 3
   },
   "file_extension": ".py",
   "mimetype": "text/x-python",
   "name": "python",
   "nbconvert_exporter": "python",
   "pygments_lexer": "ipython3",
   "version": "3.8.10"
  },
  "orig_nbformat": 4
 },
 "nbformat": 4,
 "nbformat_minor": 2
}
